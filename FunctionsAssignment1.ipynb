{
  "nbformat": 4,
  "nbformat_minor": 0,
  "metadata": {
    "colab": {
      "provenance": []
    },
    "kernelspec": {
      "name": "python3",
      "display_name": "Python 3"
    },
    "language_info": {
      "name": "python"
    }
  },
  "cells": [
    {
      "cell_type": "markdown",
      "source": [],
      "metadata": {
        "id": "8nnXgBrFfNwf"
      }
    },
    {
      "cell_type": "markdown",
      "source": [
        "Theory Questions:\n",
        "1. What is the difference between a function and a method in Python?\n",
        "Answer\n",
        "- A function is a block of code that performs a specific task, whereas a method is a function that is associated with an object or class.\n",
        "- A function can be defined using the 'def' keyword and can be called independently, whereas a method is defined within a class and is called on instances of that class.\n",
        "- Functions can be defined at the global level and can be called from anywhere in the code, whereas Methods are defined withinthe scope of a class and are called on class instances.\n",
        "- Functions are not bound to any specific object or class. Methods are bound to the objects or instances of the class. They take self as the first parameter, which refers to the instance calling the method.\n",
        "\n"
      ],
      "metadata": {
        "id": "Nwt5ghBZP23G"
      }
    },
    {
      "cell_type": "code",
      "execution_count": null,
      "metadata": {
        "colab": {
          "base_uri": "https://localhost:8080/"
        },
        "id": "SW_dF8spPwOR",
        "outputId": "718b6a84-45bb-44b7-e9ab-c9aa50bc274b"
      },
      "outputs": [
        {
          "output_type": "stream",
          "name": "stdout",
          "text": [
            "25\n"
          ]
        }
      ],
      "source": [
        "# Example for functions- Define a function to calculate the square of a number\n",
        "\n",
        "def square(number):\n",
        "    return number * number\n",
        "\n",
        "result = square(5)\n",
        "print(result)"
      ]
    },
    {
      "cell_type": "code",
      "source": [
        "# Example for method- define a class with a method to calculate the square of a number\n",
        "class Calculator:\n",
        "    def __init__(self, value):\n",
        "        self.value = value\n",
        "\n",
        "    def square(self):\n",
        "        return self.value * self.value\n",
        "\n",
        "num = Calculator(5)\n",
        "num.square()\n"
      ],
      "metadata": {
        "colab": {
          "base_uri": "https://localhost:8080/"
        },
        "id": "5Qk5_-vbRO5a",
        "outputId": "d9ff6f52-563a-4ddc-fa62-6ad2debeb41e"
      },
      "execution_count": null,
      "outputs": [
        {
          "output_type": "execute_result",
          "data": {
            "text/plain": [
              "25"
            ]
          },
          "metadata": {},
          "execution_count": 11
        }
      ]
    },
    {
      "cell_type": "markdown",
      "source": [
        " 2. Explain the concept of function arguments and parameters in Python.\n",
        " - In Python, functions are blocks of reusable code that perform a specific task. Parameters are the variables listed inside the parentheses in the function definition. They act as placeholders for the values that will be passed into the function.Arguments are the actual values passed to the function when it is called. They correspond to the parameters defined in the function.\n",
        "- Types of Arguments:\n",
        "-  Positional Arguments - These are the most common type of arguments. They are assigned to parameters based on their position.\n",
        "- Keyword Arguments - These are specified by explicitly stating the parameter name along with its value. They allow you to pass\n",
        "       arguments in a different order.\n",
        "- Default Arguments - Parameters can have default values, which are used if no argument is passed for that parameter.\n",
        "       Default parameters must follow non-default parameters.\n",
        "- Variable-Length Arguments - These allow multiple arguments. when we want to pass an arbitrary number of arguments we can use *args (for non-keyword arguments) and **kwargs (for keyword arguments)."
      ],
      "metadata": {
        "id": "AKOTdhreRuQv"
      }
    },
    {
      "cell_type": "code",
      "source": [
        "# Example for Parameters and Arguments\n",
        "def greet(name):\n",
        "    print(f\"Hello {name}!\")\n",
        "\n",
        "greet(\"Ajay\")\n",
        "#In this example 'name' is a parameter and 'Ajay' is an argument"
      ],
      "metadata": {
        "colab": {
          "base_uri": "https://localhost:8080/"
        },
        "id": "4c1QqP5oRZt1",
        "outputId": "f8bd108f-063d-47f2-fa23-54e46ab4b3db"
      },
      "execution_count": null,
      "outputs": [
        {
          "output_type": "stream",
          "name": "stdout",
          "text": [
            "Hello Ajay!\n"
          ]
        }
      ]
    },
    {
      "cell_type": "code",
      "source": [
        "# Example of types of arguments-\n",
        "#1. Positional Argument\n",
        "def add(a, b):\n",
        "    return a + b\n",
        "\n",
        "add(4, 2)\n",
        "\n",
        "#in this example, 4 and 2 are positional arguments"
      ],
      "metadata": {
        "colab": {
          "base_uri": "https://localhost:8080/"
        },
        "id": "JNOFLBP4W6tv",
        "outputId": "fcb2a7e5-82db-4daf-c031-86ac45271d6d"
      },
      "execution_count": null,
      "outputs": [
        {
          "output_type": "execute_result",
          "data": {
            "text/plain": [
              "6"
            ]
          },
          "metadata": {},
          "execution_count": 14
        }
      ]
    },
    {
      "cell_type": "code",
      "source": [
        "#2. Keyword Arguments\n",
        "def subtract(x, y):\n",
        "    return x - y\n",
        "\n",
        "num = subtract(y = 20, x = 100)\n",
        "print(num)\n",
        "\n",
        "\n",
        "def greet(first_name, last_name):\n",
        "    print(f\"Hello, {first_name} {last_name}!\")\n",
        "\n",
        "greet(last_name = \"Bhattar\", first_name = \"Nagaraj\")\n",
        "\n",
        "#These examples shows we can explicitly state the parameter name along with its value. They allow us to pass arguments in a different order."
      ],
      "metadata": {
        "colab": {
          "base_uri": "https://localhost:8080/"
        },
        "id": "aIhmwv2CkL1b",
        "outputId": "65d6ff2d-55ab-4b79-99b5-f52c62716066"
      },
      "execution_count": null,
      "outputs": [
        {
          "output_type": "stream",
          "name": "stdout",
          "text": [
            "80\n",
            "Hello, Nagaraj Bhattar!\n"
          ]
        }
      ]
    },
    {
      "cell_type": "code",
      "source": [
        "#3. Default Arguments\n",
        "def welcome(name = \"Guest\"):\n",
        "    print(f\"Hi {name}, welcome to the party\")\n",
        "\n",
        "welcome()\n",
        "welcome(\"Shiva\")\n",
        "\n",
        "def multiply(a, b, c=1):  #Default parameters must follow non-default parameters.\n",
        "    print(a * b * c)\n",
        "\n",
        "multiply(3, 5)\n",
        "multiply(3, 5, 2)\n",
        "\n",
        "#These above examples shows default parameters will be used if no arguments are passed for that parameter."
      ],
      "metadata": {
        "colab": {
          "base_uri": "https://localhost:8080/"
        },
        "id": "qDraqhflk4Og",
        "outputId": "1dce0f68-8c11-4e17-d239-460e164a103e"
      },
      "execution_count": null,
      "outputs": [
        {
          "output_type": "stream",
          "name": "stdout",
          "text": [
            "Hi Guest, welcome to the party\n",
            "Hi Shiva, welcome to the party\n",
            "15\n",
            "30\n"
          ]
        }
      ]
    },
    {
      "cell_type": "code",
      "source": [
        "#4) Variable-Length Arguments-\n",
        "def sum_all(*args):\n",
        "    return sum(args)\n",
        "\n",
        "n = sum_all(10, 30, 40, 15, 5)\n",
        "print(n)\n",
        "\n",
        "\n",
        "#**kwargs\n",
        "def print_info(**kwargs):\n",
        "    for key, value in kwargs.items():\n",
        "        print(f\"{key}: {value}\")\n",
        "\n",
        "print_info(name = \"Yashoda\", age = 50, location = \"Mysore\")\n",
        "\n",
        "#sum_all(*args): This function accepts any number of positional arguments, sums them up using the sum function, and returns the result.\n",
        "#print_info(**kwargs): This function accepts any number of keyword arguments, iterates over them, and prints each key-value pair in the\n",
        "#format \"key: value\"."
      ],
      "metadata": {
        "colab": {
          "base_uri": "https://localhost:8080/"
        },
        "id": "mwaEjPBKdowi",
        "outputId": "ce8affc7-a692-4d0c-df7f-2530cc8e5f67"
      },
      "execution_count": null,
      "outputs": [
        {
          "output_type": "stream",
          "name": "stdout",
          "text": [
            "100\n",
            "name: Yashoda\n",
            "age: 50\n",
            "location: Mysore\n"
          ]
        }
      ]
    },
    {
      "cell_type": "markdown",
      "source": [
        "3. What are the different ways to define and call a function in Python?\n",
        "-  In Python, functions can be defined and called in various ways to achieve different purposes.\n",
        " * Following are several common ways,each with examples:"
      ],
      "metadata": {
        "id": "8Q_-z-lDZ5dr"
      }
    },
    {
      "cell_type": "code",
      "source": [
        "#1. Regular Function Definition and Call - The most common way to define a function is by using the def keyword.\n",
        "\n",
        "def greet(name):\n",
        "    print(f\"Hello {name}!\")\n",
        "\n",
        "#calling the function\n",
        "greet(\"Ajay\")"
      ],
      "metadata": {
        "colab": {
          "base_uri": "https://localhost:8080/"
        },
        "id": "cF1M43rwpTtv",
        "outputId": "bbde248e-39a6-48ef-99be-ceb2713a5554"
      },
      "execution_count": null,
      "outputs": [
        {
          "output_type": "stream",
          "name": "stdout",
          "text": [
            "Hello Ajay!\n"
          ]
        }
      ]
    },
    {
      "cell_type": "code",
      "source": [
        "#2. Function with Default Arguments - Functions can have parameters with default values.\n",
        "\n",
        "def welcome(name = \"Guest\"):\n",
        "    print(f\"Hi {name}, welcome to the party\")\n",
        "\n",
        "#Calling the function with and without an argument\n",
        "welcome()\n",
        "welcome(\"Vijay\")"
      ],
      "metadata": {
        "colab": {
          "base_uri": "https://localhost:8080/"
        },
        "id": "7_KDJBgbqAX9",
        "outputId": "61a8e362-f4d4-4071-ea1b-e0c891a9211a"
      },
      "execution_count": null,
      "outputs": [
        {
          "output_type": "stream",
          "name": "stdout",
          "text": [
            "Hi Guest, welcome to the party\n",
            "Hi Vijay, welcome to the party\n"
          ]
        }
      ]
    },
    {
      "cell_type": "code",
      "source": [
        "#3. Function with Keyword Arguments - Functions can be called using keyword arguments to make the code more readable.\n",
        "\n",
        "def car(model, colour, fuel = \"petrol\"):\n",
        "    print(f\"The car is a {colour} {model}, {fuel} vehicle.\")\n",
        "\n",
        "#Calling the function with different keyword arguments\n",
        "car(model = \"Honda HRV\", colour = \"Black\")\n",
        "car(model = \"GMC Yukon\", colour = \"white\", fuel = \"diesel\")"
      ],
      "metadata": {
        "colab": {
          "base_uri": "https://localhost:8080/"
        },
        "id": "pkdolNmoXeTx",
        "outputId": "4149e216-9bd4-4f5c-83cc-feda3602293a"
      },
      "execution_count": null,
      "outputs": [
        {
          "output_type": "stream",
          "name": "stdout",
          "text": [
            "The car is a Black Honda HRV, petrol vehicle.\n",
            "The car is a white GMC Yukon, diesel vehicle.\n"
          ]
        }
      ]
    },
    {
      "cell_type": "code",
      "source": [
        "#4. Function with Variable-Length Arguments - Functions can accept a variable number of positional (*args) and keyword arguments (**kwargs).\n",
        "\n",
        "#*args\n",
        "def largest_num(*numbers):\n",
        "    return max(numbers)\n",
        "\n",
        "#Calling the function with different numbers of arguments\n",
        "print(largest_num(42, 5, 10, 73, 56, 22, 25, 26))\n",
        "print(largest_num(33, 24, 18, 77, 89, 99))\n",
        "\n",
        "#**kwargs\n",
        "def user_info(**kwargs):\n",
        "    for key, value in kwargs.items():\n",
        "        print(f\"{key.capitalize()}: {value}\")\n",
        "\n",
        "#Calling the function with different keyword arguments\n",
        "user_info(name=\"Ajay\", age=25, city=\"Bangalore\")\n",
        "user_info(name=\"Vijay\", age=18, course=\"Data Science\", coaching_center=\"PWskills\")"
      ],
      "metadata": {
        "colab": {
          "base_uri": "https://localhost:8080/"
        },
        "id": "xi0Xw0JYq65o",
        "outputId": "0bfac0a3-07fd-4f29-c9bc-95c95440b848"
      },
      "execution_count": null,
      "outputs": [
        {
          "output_type": "stream",
          "name": "stdout",
          "text": [
            "73\n",
            "99\n",
            "Name: Ajay\n",
            "Age: 25\n",
            "City: Bangalore\n",
            "Name: Vijay\n",
            "Age: 18\n",
            "Course: Data Science\n",
            "Coaching_center: PWskills\n"
          ]
        }
      ]
    },
    {
      "cell_type": "code",
      "source": [
        "#5. Lambda Functions - Lambda functions are small anonymous functions defined with the lambda keyword.\n",
        "\n",
        "# Defining a lambda function\n",
        "add = lambda x, y: x + y\n",
        "\n",
        "# Calling the lambda function\n",
        "print(add(2, 3))\n",
        "\n",
        "# Defining a lambda function\n",
        "square_number = lambda a : a ** 2\n",
        "\n",
        "# Calling the lambda function\n",
        "print(square_number(5))"
      ],
      "metadata": {
        "colab": {
          "base_uri": "https://localhost:8080/"
        },
        "id": "eKstqlOrrecM",
        "outputId": "2babd22c-6f6d-426c-c55e-8955cfb204d6"
      },
      "execution_count": null,
      "outputs": [
        {
          "output_type": "stream",
          "name": "stdout",
          "text": [
            "5\n",
            "25\n"
          ]
        }
      ]
    },
    {
      "cell_type": "code",
      "source": [
        "#6. Recursive Functions - A function can call itself to solve a problem.\n",
        "def factorial(n):\n",
        "    if n == 0:\n",
        "        return 1\n",
        "    else:\n",
        "        return n * factorial(n - 1)\n",
        "\n",
        "# Calling the recursive function\n",
        "print(factorial(5))"
      ],
      "metadata": {
        "colab": {
          "base_uri": "https://localhost:8080/"
        },
        "id": "IJZPbkRrrnPs",
        "outputId": "7bbcf8c4-95bf-47a9-a0dd-a1d456c76ef8"
      },
      "execution_count": null,
      "outputs": [
        {
          "output_type": "stream",
          "name": "stdout",
          "text": [
            "120\n"
          ]
        }
      ]
    },
    {
      "cell_type": "code",
      "source": [
        "#7. Method within a Class (Instance Method) - Functions defined within a class are called methods.\n",
        "#A class representing a simple bank account with methods to deposit and withdraw money.\n",
        "\n",
        "class BankAccount:\n",
        "    def __init__(self, account_holder):\n",
        "        self.account_holder = account_holder\n",
        "        self.balance = 0\n",
        "\n",
        "    def deposit(self, amount):\n",
        "        self.balance += amount\n",
        "        print(f\"{self.account_holder} deposited {amount}, new balance is {self.balance}\")\n",
        "\n",
        "    def withdraw(self, amount):\n",
        "        if amount <= self.balance:\n",
        "            self.balance -= amount\n",
        "            print(f\"{self.account_holder}, withdrawn {amount}, new balance is {self.balance}\")\n",
        "\n",
        "account = BankAccount(\"Gopal\")\n",
        "account.deposit(10000)\n",
        "account.withdraw(1500)"
      ],
      "metadata": {
        "colab": {
          "base_uri": "https://localhost:8080/"
        },
        "id": "eIjeAh-drxTD",
        "outputId": "d59b92cb-a8c1-407b-a5d0-6392e4588a40"
      },
      "execution_count": null,
      "outputs": [
        {
          "output_type": "stream",
          "name": "stdout",
          "text": [
            "Gopal deposited 10000, new balance is 10000\n",
            "Gopal, withdrawn 1500, new balance is 8500\n"
          ]
        }
      ]
    },
    {
      "cell_type": "code",
      "source": [
        "#8. Nested Functions - A function defined inside another function.\n",
        "#A function that returns a nested function to calculate the power of a number.\n",
        "\n",
        "def power(exponent):\n",
        "    def calculate(base):\n",
        "        return base ** exponent\n",
        "    return calculate\n",
        "\n",
        "# Using the nested function\n",
        "square = power(2)\n",
        "cube = power(3)\n",
        "\n",
        "print(square(4))\n",
        "print(cube(2))\n"
      ],
      "metadata": {
        "colab": {
          "base_uri": "https://localhost:8080/"
        },
        "id": "_EZodQ4-r_Cg",
        "outputId": "c2f25639-0e8d-4cf4-b629-716548faf3f2"
      },
      "execution_count": null,
      "outputs": [
        {
          "output_type": "stream",
          "name": "stdout",
          "text": [
            "16\n",
            "8\n"
          ]
        }
      ]
    },
    {
      "cell_type": "markdown",
      "source": [
        "4. What is the purpose of the `return` statement in a Python function?\n",
        "- The return statement in a Python function serves the purpose of terminating the function and optionally passing a value back to the caller.The purpose of the 'return' stament are as follows-\n",
        " * 1. Terminate the Function: The return statement stops the execution of the function. No code after the return statement will be executed within that function.\n",
        " * 2. Return a Value: The return statement can send a value back to the caller, which can be used immediately or stored in a variable.If no value is specified, the function returns None by default.\n",
        "  * 3. Multiple Return Points: A function can have multiple return statements. This allows for different outcomes based on conditionallogic.The return statement is essential for controlling the flow of a function and for passing the result of a function's computation backto its caller.\n",
        "   * Following are the examples of return statement:"
      ],
      "metadata": {
        "id": "wapOEj0nsNQC"
      }
    },
    {
      "cell_type": "code",
      "source": [
        "#1. Returning a Simple Calculation\n",
        "\n",
        "def multiply(x, y):\n",
        "    return x * y\n",
        "result = multiply(3, 7)\n",
        "print(result)"
      ],
      "metadata": {
        "colab": {
          "base_uri": "https://localhost:8080/"
        },
        "id": "EcvXK8G1tCTB",
        "outputId": "3704a0ee-3185-42e6-eeb4-d7c26afefeac"
      },
      "execution_count": null,
      "outputs": [
        {
          "output_type": "stream",
          "name": "stdout",
          "text": [
            "21\n"
          ]
        }
      ]
    },
    {
      "cell_type": "code",
      "source": [
        "#2. Returning a Boolean Value\n",
        "\n",
        "def odd_number(number):\n",
        "    return number % 2 != 0\n",
        "\n",
        "result = odd_number(8)\n",
        "print(result)"
      ],
      "metadata": {
        "colab": {
          "base_uri": "https://localhost:8080/"
        },
        "id": "anhCyOxktKlA",
        "outputId": "2cae2de6-43ab-4c7a-e92f-65e5bc23cce3"
      },
      "execution_count": null,
      "outputs": [
        {
          "output_type": "stream",
          "name": "stdout",
          "text": [
            "False\n"
          ]
        }
      ]
    },
    {
      "cell_type": "code",
      "source": [
        "#3. Returning a List\n",
        "def get_even_numbers(numbers):\n",
        "    even_numbers = []\n",
        "    for i in range(numbers):\n",
        "        if i % 2 == 0:\n",
        "            even_numbers.append(i)\n",
        "    return even_numbers\n",
        "\n",
        "print(get_even_numbers(10))"
      ],
      "metadata": {
        "colab": {
          "base_uri": "https://localhost:8080/"
        },
        "id": "QIMp3RbCtQMJ",
        "outputId": "904f3f8a-d28e-4efe-95fa-31fee509ecb0"
      },
      "execution_count": null,
      "outputs": [
        {
          "output_type": "stream",
          "name": "stdout",
          "text": [
            "[0, 2, 4, 6, 8]\n"
          ]
        }
      ]
    },
    {
      "cell_type": "code",
      "source": [
        "#4. Returning a Dictionary\n",
        "\n",
        "def personal_details(name, age):\n",
        "    return{\n",
        "    \"name\": name,\n",
        "    \"age\": age\n",
        "    }\n",
        "person = personal_details(\"Sanjay\", 76)\n",
        "print(person)"
      ],
      "metadata": {
        "colab": {
          "base_uri": "https://localhost:8080/"
        },
        "id": "4Noo7PcdtWSg",
        "outputId": "d7d0a529-cfc1-404d-ad17-24e7e789c5c6"
      },
      "execution_count": null,
      "outputs": [
        {
          "output_type": "stream",
          "name": "stdout",
          "text": [
            "{'name': 'Sanjay', 'age': 76}\n"
          ]
        }
      ]
    },
    {
      "cell_type": "code",
      "source": [
        "#5) Returning a String\n",
        "def greetings(bride, bridegroom):\n",
        "    return (f\"Happy married life {bride} and {bridegroom}\")\n",
        "\n",
        "greet = greetings(\"Ajay\", \"Pooja\")\n",
        "print(greet)"
      ],
      "metadata": {
        "colab": {
          "base_uri": "https://localhost:8080/"
        },
        "id": "bZDoLcT7tgDX",
        "outputId": "3ff4cbc4-4d33-4e75-c505-05ea2c6c5fdd"
      },
      "execution_count": null,
      "outputs": [
        {
          "output_type": "stream",
          "name": "stdout",
          "text": [
            "Happy married life Ajay and Pooja\n"
          ]
        }
      ]
    },
    {
      "cell_type": "markdown",
      "source": [
        "5. What are iterators in Python and how do they differ from iterables?\n",
        "- Iterables -\n",
        "    1. An iterable is any python object/sequential structure/data structure that is capable of returning its members one at a time,permitting it to be iterated over in a for loop.\n",
        "    2. It has an __iter__() method that returns an iterator.\n",
        "    3. Iterables provide an interface to create iterators.\n",
        "    \n",
        "- Iterators-\n",
        "  1. Iterator is an object representing a stream of data.\n",
        "  2. Iterator is intermediate state where you create an object that can be iterated\n",
        "  3. Iterators provide an interface to access elements one at a time.\n",
        "  4. It has two primary methods:\n",
        "  * a) __iter__(): Returns the iterator object itself.\n",
        "  * b) __next__(): Returns the next item from the stream. When no more data is available, it raises a StopIteration exception.\n",
        "- Following are the example of iterables and iterator:"
      ],
      "metadata": {
        "id": "kUdiRFO8uDFN"
      }
    },
    {
      "cell_type": "code",
      "source": [
        "#Example of Iterable and Iterator using a List -\n",
        "\n",
        "#Iterable (List)- A list is a built-in iterable in Python.\n",
        "my_list = [1, 2, 3, 4]\n",
        "\n",
        "#using a for loop to iterate over the list\n",
        "for i in my_list:\n",
        "    print(i)"
      ],
      "metadata": {
        "colab": {
          "base_uri": "https://localhost:8080/"
        },
        "id": "WirfjB_Yt6_w",
        "outputId": "5e7f1221-0a09-4032-cb6e-c37b411a9696"
      },
      "execution_count": null,
      "outputs": [
        {
          "output_type": "stream",
          "name": "stdout",
          "text": [
            "1\n",
            "2\n",
            "3\n",
            "4\n"
          ]
        }
      ]
    },
    {
      "cell_type": "code",
      "source": [
        "#Iterator- You can explicitly create an iterator from a list using the iter() function.\n",
        "\n",
        "#creating an iterator from the list\n",
        "my_iterator = iter(my_list)\n",
        "\n",
        "#using iterator to get elaements\n",
        "print(next(my_iterator))\n",
        "print(next(my_iterator))\n",
        "print(next(my_iterator))\n",
        "print(next(my_iterator))\n",
        "print(next(my_iterator))  #Raises StopIteration error"
      ],
      "metadata": {
        "colab": {
          "base_uri": "https://localhost:8080/",
          "height": 255
        },
        "id": "pZ_93OJgAiXj",
        "outputId": "46d0f82a-0b90-4e72-d1df-24ffe4116092"
      },
      "execution_count": null,
      "outputs": [
        {
          "output_type": "stream",
          "name": "stdout",
          "text": [
            "1\n",
            "2\n",
            "3\n",
            "4\n"
          ]
        },
        {
          "output_type": "error",
          "ename": "StopIteration",
          "evalue": "",
          "traceback": [
            "\u001b[0;31m---------------------------------------------------------------------------\u001b[0m",
            "\u001b[0;31mStopIteration\u001b[0m                             Traceback (most recent call last)",
            "\u001b[0;32m<ipython-input-42-d3c2d43947bd>\u001b[0m in \u001b[0;36m<cell line: 0>\u001b[0;34m()\u001b[0m\n\u001b[1;32m      9\u001b[0m \u001b[0mprint\u001b[0m\u001b[0;34m(\u001b[0m\u001b[0mnext\u001b[0m\u001b[0;34m(\u001b[0m\u001b[0mmy_iterator\u001b[0m\u001b[0;34m)\u001b[0m\u001b[0;34m)\u001b[0m\u001b[0;34m\u001b[0m\u001b[0;34m\u001b[0m\u001b[0m\n\u001b[1;32m     10\u001b[0m \u001b[0mprint\u001b[0m\u001b[0;34m(\u001b[0m\u001b[0mnext\u001b[0m\u001b[0;34m(\u001b[0m\u001b[0mmy_iterator\u001b[0m\u001b[0;34m)\u001b[0m\u001b[0;34m)\u001b[0m\u001b[0;34m\u001b[0m\u001b[0;34m\u001b[0m\u001b[0m\n\u001b[0;32m---> 11\u001b[0;31m \u001b[0mprint\u001b[0m\u001b[0;34m(\u001b[0m\u001b[0mnext\u001b[0m\u001b[0;34m(\u001b[0m\u001b[0mmy_iterator\u001b[0m\u001b[0;34m)\u001b[0m\u001b[0;34m)\u001b[0m  \u001b[0;31m#Raises StopIteration error\u001b[0m\u001b[0;34m\u001b[0m\u001b[0;34m\u001b[0m\u001b[0m\n\u001b[0m",
            "\u001b[0;31mStopIteration\u001b[0m: "
          ]
        }
      ]
    },
    {
      "cell_type": "code",
      "source": [
        "#Example of Iterable and Iterator using a string -\n",
        "\n",
        "#Iterable (String)- A string is a built-in iterable in Python.\n",
        "my_string = \"PWskills\"\n",
        "\n",
        "#using a for loop to iterate over a string\n",
        "for i in my_string:\n",
        "    print(i)"
      ],
      "metadata": {
        "colab": {
          "base_uri": "https://localhost:8080/"
        },
        "id": "W_Ibsb9ABHYJ",
        "outputId": "68cd4bf7-fe6b-4253-87fc-ca21766a2f8c"
      },
      "execution_count": null,
      "outputs": [
        {
          "output_type": "stream",
          "name": "stdout",
          "text": [
            "P\n",
            "W\n",
            "s\n",
            "k\n",
            "i\n",
            "l\n",
            "l\n",
            "s\n"
          ]
        }
      ]
    },
    {
      "cell_type": "code",
      "source": [
        "#Iterator- You can explicitly create an iterator from a string using the iter() function.\n",
        "\n",
        "#creating an iterator from a string\n",
        "my_iterator = iter(my_string)\n",
        "\n",
        "#using iterator to get elements\n",
        "print(next(my_iterator))\n",
        "print(next(my_iterator))\n",
        "print(next(my_iterator))\n",
        "print(next(my_iterator))\n",
        "print(next(my_iterator))\n",
        "print(next(my_iterator))\n",
        "print(next(my_iterator))\n",
        "print(next(my_iterator))\n",
        "print(next(my_iterator))  #Raises StopIteration error"
      ],
      "metadata": {
        "colab": {
          "base_uri": "https://localhost:8080/",
          "height": 327
        },
        "id": "zw2dt80vBW8W",
        "outputId": "c2fe46db-6ee7-415a-e084-2b7cfbdb8171"
      },
      "execution_count": null,
      "outputs": [
        {
          "output_type": "stream",
          "name": "stdout",
          "text": [
            "P\n",
            "W\n",
            "s\n",
            "k\n",
            "i\n",
            "l\n",
            "l\n",
            "s\n"
          ]
        },
        {
          "output_type": "error",
          "ename": "StopIteration",
          "evalue": "",
          "traceback": [
            "\u001b[0;31m---------------------------------------------------------------------------\u001b[0m",
            "\u001b[0;31mStopIteration\u001b[0m                             Traceback (most recent call last)",
            "\u001b[0;32m<ipython-input-44-da3b64d8a427>\u001b[0m in \u001b[0;36m<cell line: 0>\u001b[0;34m()\u001b[0m\n\u001b[1;32m     13\u001b[0m \u001b[0mprint\u001b[0m\u001b[0;34m(\u001b[0m\u001b[0mnext\u001b[0m\u001b[0;34m(\u001b[0m\u001b[0mmy_iterator\u001b[0m\u001b[0;34m)\u001b[0m\u001b[0;34m)\u001b[0m\u001b[0;34m\u001b[0m\u001b[0;34m\u001b[0m\u001b[0m\n\u001b[1;32m     14\u001b[0m \u001b[0mprint\u001b[0m\u001b[0;34m(\u001b[0m\u001b[0mnext\u001b[0m\u001b[0;34m(\u001b[0m\u001b[0mmy_iterator\u001b[0m\u001b[0;34m)\u001b[0m\u001b[0;34m)\u001b[0m\u001b[0;34m\u001b[0m\u001b[0;34m\u001b[0m\u001b[0m\n\u001b[0;32m---> 15\u001b[0;31m \u001b[0mprint\u001b[0m\u001b[0;34m(\u001b[0m\u001b[0mnext\u001b[0m\u001b[0;34m(\u001b[0m\u001b[0mmy_iterator\u001b[0m\u001b[0;34m)\u001b[0m\u001b[0;34m)\u001b[0m  \u001b[0;31m#Raises StopIteration error\u001b[0m\u001b[0;34m\u001b[0m\u001b[0;34m\u001b[0m\u001b[0m\n\u001b[0m",
            "\u001b[0;31mStopIteration\u001b[0m: "
          ]
        }
      ]
    },
    {
      "cell_type": "markdown",
      "source": [
        "6. Explain the concept of generators in Python and how they are defined.\n",
        "\n",
        "- Generators in Python are a special class of iterators that allow you to iterate over data without the need to store the entire dataset in memory.They are useful for dealing with large data sets or streams of data where it is impractical to load everything into memory at once.\n",
        "    \n",
        " * Key characteristics of Generators-\n",
        "1. Lazy Evaluation- Generators compute values on the fly and yield them one at a time. This means they do not compute all values upfront.\n",
        "\n",
        "2. Stateful Iteration- Generators maintain their state between successive calls, which makes them efficient for tasks like traversing large sequences or streams.\n",
        "\n",
        "3. Memory Efficiency- Because they generate items one at a time, they use less memory than lists or other collections that store all values at once.\n",
        "       \n",
        "  *  Defining Generators\n",
        "- Generators are defined using functions and the yield statement. A function becomes a generator if it contains one or more yield expressions.\n",
        "    \n",
        "- Generators are a powerful feature in Python that enable efficient iteration over large data sets without the need for excessive memory usage. By generating items on-the-fly, they provide a performant way to handle data streams and large sequences."
      ],
      "metadata": {
        "id": "gwZAqONaBgxr"
      }
    },
    {
      "cell_type": "code",
      "source": [
        "#Example of a generator that yields the squares of the numbers-\n",
        "def square_number_generator(*numbers):\n",
        "    for i in numbers:\n",
        "        yield i ** 2\n",
        "\n",
        "#using the generator\n",
        "result = square_number_generator(6, 5, 7)\n",
        "for i in result:\n",
        "    print(i)"
      ],
      "metadata": {
        "colab": {
          "base_uri": "https://localhost:8080/"
        },
        "id": "E5dN4uwWCu6y",
        "outputId": "4f1ea775-d84c-43d1-aa42-b57b8179abf5"
      },
      "execution_count": null,
      "outputs": [
        {
          "output_type": "stream",
          "name": "stdout",
          "text": [
            "36\n",
            "25\n",
            "49\n"
          ]
        }
      ]
    },
    {
      "cell_type": "code",
      "source": [
        "#Fibonacci Sequence Generator-\n",
        "def fibonacci_series(n):\n",
        "    a = 0\n",
        "    b = 1\n",
        "    for i in range(n):\n",
        "        yield a\n",
        "        a,b = b, a+b\n",
        "\n",
        "#using the generator\n",
        "fibonacci = fibonacci_series(10)\n",
        "for i in fibonacci:\n",
        "    print(i)"
      ],
      "metadata": {
        "colab": {
          "base_uri": "https://localhost:8080/"
        },
        "id": "KfcdquNRDIXM",
        "outputId": "6acbf2bc-f568-4c96-c2ef-4fd577af6685"
      },
      "execution_count": null,
      "outputs": [
        {
          "output_type": "stream",
          "name": "stdout",
          "text": [
            "0\n",
            "1\n",
            "1\n",
            "2\n",
            "3\n",
            "5\n",
            "8\n",
            "13\n",
            "21\n",
            "34\n"
          ]
        }
      ]
    },
    {
      "cell_type": "code",
      "source": [
        "#Generator Expression that yields square of numbers\n",
        "square_numbers = (x * x for x in range(10))\n",
        "\n",
        "#Using the generator expression\n",
        "for i in square_numbers:\n",
        "    print(i)"
      ],
      "metadata": {
        "colab": {
          "base_uri": "https://localhost:8080/"
        },
        "id": "7rXqQt7bDNmw",
        "outputId": "ab24c3c6-e979-47c9-dc49-37af71630203"
      },
      "execution_count": null,
      "outputs": [
        {
          "output_type": "stream",
          "name": "stdout",
          "text": [
            "0\n",
            "1\n",
            "4\n",
            "9\n",
            "16\n",
            "25\n",
            "36\n",
            "49\n",
            "64\n",
            "81\n"
          ]
        }
      ]
    },
    {
      "cell_type": "markdown",
      "source": [
        " 7. What are the advantages of using generators over regular functions?\n",
        "\n",
        " - Advantages of using generators over regular functions-\n",
        "    1. Use Less Memory- Generators don't store all values in memory. They create each value one at a time when needed, which is great for handling large amounts of data.\n",
        "    2. Work Only When Needed- Generators produce values as you ask for them. This means they don't do any work until you need a value, making them efficient.\n",
        "    3. Simpler to write- Generators can make your code shorter and easier to read. You can write complex loops and data processing in a straight forward way using yield.\n",
        "    4. Handle Big and Endless Data- Generators can handle very large data sets and even infinite sequences because they only produce one value at a time. Regular functions can't do this because they need to create all values at once.\n",
        "    5. Faster Performance- Because they work on-the-fly, generators can be faster and use fewer resources, especially with big data sets.\n",
        "    6. Easy to Combine- You can easily link generators together, creating a pipeline where data flows from one generator to another. This makes your code modular and reusable."
      ],
      "metadata": {
        "id": "7gAUDQKBDUbz"
      }
    },
    {
      "cell_type": "code",
      "source": [
        "#Generating Fibonacci Numbers using generator-\n",
        "\n",
        "def fibonacci_numbers(n):\n",
        "    a, b = 0, 1\n",
        "    for i in range(n):\n",
        "        yield a\n",
        "        a, b = b, a+b\n",
        "\n",
        "result = fibonacci_numbers(15)\n",
        "for i in result:\n",
        "    print(i)"
      ],
      "metadata": {
        "colab": {
          "base_uri": "https://localhost:8080/"
        },
        "id": "-1xAeJTJD4N0",
        "outputId": "6850280c-02ba-4b3a-f303-a9ef9e27ee33"
      },
      "execution_count": null,
      "outputs": [
        {
          "output_type": "stream",
          "name": "stdout",
          "text": [
            "0\n",
            "1\n",
            "1\n",
            "2\n",
            "3\n",
            "5\n",
            "8\n",
            "13\n",
            "21\n",
            "34\n",
            "55\n",
            "89\n",
            "144\n",
            "233\n",
            "377\n"
          ]
        }
      ]
    },
    {
      "cell_type": "code",
      "source": [
        "#Generating Fibonacci Numbers using regular function-\n",
        "\n",
        "def fibonacci_num(n):\n",
        "    a, b = 0, 1\n",
        "    l = []\n",
        "    for i in range(n):\n",
        "        l.append(a)\n",
        "        a, b = b, a+b\n",
        "    return l\n",
        "\n",
        "result = fibonacci_num(15)\n",
        "for i in result:\n",
        "    print(i)"
      ],
      "metadata": {
        "colab": {
          "base_uri": "https://localhost:8080/"
        },
        "id": "9dIytwQpEJwi",
        "outputId": "8400b4c6-a20f-4d14-a709-5f116fa0e113"
      },
      "execution_count": null,
      "outputs": [
        {
          "output_type": "stream",
          "name": "stdout",
          "text": [
            "0\n",
            "1\n",
            "1\n",
            "2\n",
            "3\n",
            "5\n",
            "8\n",
            "13\n",
            "21\n",
            "34\n",
            "55\n",
            "89\n",
            "144\n",
            "233\n",
            "377\n"
          ]
        }
      ]
    },
    {
      "cell_type": "code",
      "source": [
        "#Generating Even Numbers using generators-\n",
        "def even_numbers(num):\n",
        "    for i in range(num + 1):\n",
        "        if i % 2 == 0:\n",
        "            yield i\n",
        "result = even_numbers(10)\n",
        "for i in result:\n",
        "    print(i)"
      ],
      "metadata": {
        "colab": {
          "base_uri": "https://localhost:8080/"
        },
        "id": "AMLY8szaETZG",
        "outputId": "51dcacba-fa2b-4c99-dcce-5f155dd60eae"
      },
      "execution_count": null,
      "outputs": [
        {
          "output_type": "stream",
          "name": "stdout",
          "text": [
            "0\n",
            "2\n",
            "4\n",
            "6\n",
            "8\n",
            "10\n"
          ]
        }
      ]
    },
    {
      "cell_type": "code",
      "source": [
        "#Generating Even Numbers using regular function-\n",
        "def even_no(n):\n",
        "    num = []\n",
        "    for i in range(n + 1):\n",
        "        if i % 2 == 0:\n",
        "            num.append(i)\n",
        "    return num\n",
        "\n",
        "result = even_no(10)\n",
        "for i in result:\n",
        "    print(i)"
      ],
      "metadata": {
        "colab": {
          "base_uri": "https://localhost:8080/"
        },
        "id": "3okKKhN2EeMM",
        "outputId": "e60a3009-9121-4c4b-e0b8-2fb6fd5f636a"
      },
      "execution_count": null,
      "outputs": [
        {
          "output_type": "stream",
          "name": "stdout",
          "text": [
            "0\n",
            "2\n",
            "4\n",
            "6\n",
            "8\n",
            "10\n"
          ]
        }
      ]
    },
    {
      "cell_type": "markdown",
      "source": [
        " 8. What is a lambda function in Python and when is it typically used?\n",
        " - A lambda function in Python is a small, anonymous function defined with the lambda keyword. It can take any number of arguments but can only have one expression. The expression is evaluated and returned when the lambda function is called.\n",
        "*  The syntax of lambda function is :\n",
        "*  lamda arguments : expression\n",
        "- Following are the use cases of a lambda function-"
      ],
      "metadata": {
        "id": "6rbWXthDEj3N"
      }
    },
    {
      "cell_type": "code",
      "source": [
        "#1. Creating Quick Utility Functions- Lambda functions can be used to create small utility functions on-the-fly.\n",
        "#Use Case: Quick, small mathematical computations.\n",
        "\n",
        "divide = lambda x, y: x / y\n",
        "print(divide(5,2))"
      ],
      "metadata": {
        "colab": {
          "base_uri": "https://localhost:8080/"
        },
        "id": "YArWBMhOFO9M",
        "outputId": "f8bb217a-b426-4d1a-c0ff-30d78f9ec88c"
      },
      "execution_count": null,
      "outputs": [
        {
          "output_type": "stream",
          "name": "stdout",
          "text": [
            "2.5\n"
          ]
        }
      ]
    },
    {
      "cell_type": "code",
      "source": [
        "#2. Using with Data Structures- Lambda functions can be used to manipulate data structures, such as sorting a list of dictionaries.\n",
        "#Use Case: Custom sorting of complex data structures.\n",
        "\n",
        "family = [\n",
        "    {\"Father\" : \"Ajay\", \"age\" : 51},\n",
        "    {\"Mother\" : \"Pooja\", \"age\" : 50},\n",
        "    {\"Grand_mother\" : \"Pushpa\", \"age\" : 65},\n",
        "    {\"Grand_father\" : \"Vijay\", \"age\" : 75}\n",
        "]\n",
        "\n",
        "sort = sorted(family, key=lambda x : x[\"age\"])\n",
        "print(sort)"
      ],
      "metadata": {
        "colab": {
          "base_uri": "https://localhost:8080/"
        },
        "id": "FVVdz64lFXrP",
        "outputId": "dc09d13f-a80c-4935-e1a8-343d5e7b097f"
      },
      "execution_count": null,
      "outputs": [
        {
          "output_type": "stream",
          "name": "stdout",
          "text": [
            "[{'Mother': 'Pooja', 'age': 50}, {'Father': 'Ajay', 'age': 51}, {'Grand_mother': 'Pushpa', 'age': 65}, {'Grand_father': 'Vijay', 'age': 75}]\n"
          ]
        }
      ]
    },
    {
      "cell_type": "code",
      "source": [
        "#3. Using lambda with sorted() Function-\n",
        "#Use Case: Custom sorting criteria.\n",
        "\n",
        "points = [(2, 3), (1, 2), (4, 1)]\n",
        "sorted_points = sorted(points, key=lambda point: point[1])\n",
        "print(sorted_points)"
      ],
      "metadata": {
        "colab": {
          "base_uri": "https://localhost:8080/"
        },
        "id": "g_kPtGP4FyPG",
        "outputId": "d64b790f-ffcb-4947-ca45-b114f094b732"
      },
      "execution_count": null,
      "outputs": [
        {
          "output_type": "stream",
          "name": "stdout",
          "text": [
            "[(4, 1), (1, 2), (2, 3)]\n"
          ]
        }
      ]
    },
    {
      "cell_type": "code",
      "source": [
        "#4. Using lambda with map() Function-\n",
        "#Use Case: Transforming or modifying each item in a list.\n",
        "\n",
        "numbers = [1, 2, 3, 4, 5]\n",
        "\n",
        "squared = map(lambda x: x * x, numbers)\n",
        "print(list(squared))"
      ],
      "metadata": {
        "colab": {
          "base_uri": "https://localhost:8080/"
        },
        "id": "eYmIEUKtF_xA",
        "outputId": "b6b784f2-ecf6-4a14-8918-29e1a153327c"
      },
      "execution_count": null,
      "outputs": [
        {
          "output_type": "stream",
          "name": "stdout",
          "text": [
            "[1, 4, 9, 16, 25]\n"
          ]
        }
      ]
    },
    {
      "cell_type": "code",
      "source": [
        "#5. Using lambda with filter() Function-\n",
        "#Use Case: Filtering items in a list based on a condition.\n",
        "\n",
        "list1 = [0, 1, 2, 3, 4, 5, 6, 7, 8, 9, 10]\n",
        "even_numbers = filter(lambda x: x % 2 == 0, list1)\n",
        "print(list(even_numbers))"
      ],
      "metadata": {
        "colab": {
          "base_uri": "https://localhost:8080/"
        },
        "id": "y4EhX_-HGG_K",
        "outputId": "0c957af2-acb5-47f9-8fad-7f10de1f46b9"
      },
      "execution_count": null,
      "outputs": [
        {
          "output_type": "stream",
          "name": "stdout",
          "text": [
            "[0, 2, 4, 6, 8, 10]\n"
          ]
        }
      ]
    },
    {
      "cell_type": "markdown",
      "source": [
        "9. Explain the purpose and usage of the `map()` function in Python.\n",
        "-  The map() function in Python is used to apply a given function to all items in an iterable (like a list, tuple, or string) and returna map object (which is an iterator) containing the results.\n",
        "\n",
        "- The primary purpose of map() is to simplify the process of applying a function to each item in an iterable, making the code more concise and readable. It is particularly useful when you need to perform the same operation on all elements of a collection.\n",
        "    \n",
        " * The syntax of map function-\n",
        "   map(function, iterable)\n",
        "    \n",
        "  * map() returns a map object, which is an iterator. We can convert it to a list, tuple, or other iterable types if needed.\n",
        "  * The map() function is a powerful and versatile tool for applying functions to iterable items in a concise and readable manner.\n",
        "    \n",
        "- Following are some of the usages of map() function with examples-"
      ],
      "metadata": {
        "id": "qjLYmBU1GWcI"
      }
    },
    {
      "cell_type": "code",
      "source": [
        "#1. Converting Strings to Uppercase-\n",
        "\n",
        "strings = [\"Hello\", \"Datascience\", \"Pwskills\"]\n",
        "\n",
        "upper_case_strings = map(str.upper, strings)\n",
        "print(list(upper_case_strings))"
      ],
      "metadata": {
        "colab": {
          "base_uri": "https://localhost:8080/"
        },
        "id": "31IyTP-iGPAY",
        "outputId": "a028fdf9-2559-4050-8663-dfebb3d63522"
      },
      "execution_count": null,
      "outputs": [
        {
          "output_type": "stream",
          "name": "stdout",
          "text": [
            "['HELLO', 'DATASCIENCE', 'PWSKILLS']\n"
          ]
        }
      ]
    },
    {
      "cell_type": "code",
      "source": [
        "#2. Adding Elements of Two Lists-\n",
        "\n",
        "list1 = [10, 20, 30, 40]\n",
        "list2 = [5, 15, 25, 35]\n",
        "\n",
        "combined_list = map(lambda a, b : a + b, list1, list2)\n",
        "print(list(combined_list))"
      ],
      "metadata": {
        "colab": {
          "base_uri": "https://localhost:8080/"
        },
        "id": "-Iyl5Sg4HVuv",
        "outputId": "a3b3fb23-5712-44ce-8165-015de860d4ab"
      },
      "execution_count": null,
      "outputs": [
        {
          "output_type": "stream",
          "name": "stdout",
          "text": [
            "[15, 35, 55, 75]\n"
          ]
        }
      ]
    },
    {
      "cell_type": "code",
      "source": [
        "#3. Type Conversion-\n",
        "# Converting a list of strings to integers.\n",
        "\n",
        "values = [\"6\", \"11\", \"8\", \"27\", \"17\"]\n",
        "\n",
        "int_values = map(int, values)\n",
        "print(list(int_values))"
      ],
      "metadata": {
        "colab": {
          "base_uri": "https://localhost:8080/"
        },
        "id": "9U69lQD0Hb9f",
        "outputId": "57dfde10-85da-4412-9ca0-1e4daa87c2ab"
      },
      "execution_count": null,
      "outputs": [
        {
          "output_type": "stream",
          "name": "stdout",
          "text": [
            "[6, 11, 8, 27, 17]\n"
          ]
        }
      ]
    },
    {
      "cell_type": "markdown",
      "source": [
        " 10. What is the difference between `map()`, `reduce()`, and `filter()` functions in Python?\n",
        " - In Python, map(), reduce(), and filter() are higher-order functions that operate on iterables (like lists, tuples, etc.) and allow you to perform functional-style programming.\n",
        " 1. map() -\n",
        " * Purpose- To apply a function to each item in an iterable and return a map object (which is an iterator) containing the results.\n",
        " * Syntax- map(function, iterable)\n",
        " * Use- map() function is used when you want to transform or modify each element in an iterable.\n",
        "       \n",
        "2. filter() -\n",
        "* Purpose- To construct an iterator from elements of an iterable for which a function returns true.\n",
        "* Syntax- filter(function, iterable)\n",
        "* Use- filter() function is used when you want to filter out elements from an iterable based on a condition.\n",
        "       \n",
        "3. reduce() -\n",
        "* Purpose- To apply a function cumulatively to the items of an iterable, reducing the iterable to a single value.\n",
        "* Syntax- reduce(function, iterable[,initializer])\n",
        "* Use- reduce is not a python keyword, we have to import from a library called functools. reduce() fuction is uased when you need to perform cumulative operations on an iterable, like summing all elements, finding the product, etc. reduce will always take two arguments.\n",
        "       \n",
        "Following are the examples of map(), filter(), reduce() functions-"
      ],
      "metadata": {
        "id": "hSl30pF2Hrwa"
      }
    },
    {
      "cell_type": "code",
      "source": [
        "#Example of using a map() function-\n",
        "\n",
        "def square(number):\n",
        "    return number * number\n",
        "\n",
        "numbers = [1, 3, 5, 7, 9]\n",
        "\n",
        "square_numbers = map(square, numbers)\n",
        "print(list(square_numbers))\n",
        "\n",
        "#we use map() function when we want to transform or modify each element in an iterable."
      ],
      "metadata": {
        "colab": {
          "base_uri": "https://localhost:8080/"
        },
        "id": "_jlSh-12I-6a",
        "outputId": "23970d49-932b-4bda-9c05-6c9551228a5e"
      },
      "execution_count": null,
      "outputs": [
        {
          "output_type": "stream",
          "name": "stdout",
          "text": [
            "[1, 9, 25, 49, 81]\n"
          ]
        }
      ]
    },
    {
      "cell_type": "code",
      "source": [
        "#Example of using a filter() function-\n",
        "\n",
        "def multiple_of_five(numbers):\n",
        "    return numbers % 5 == 0\n",
        "\n",
        "all_numbers = [2, 3, 25, 24, 77, 62, 50, 83, 38, 49, 125]\n",
        "\n",
        "result = filter(multiple_of_five, all_numbers)\n",
        "print(list(result))\n",
        "\n",
        "#we use filter() function when we want to filter out elements from an iterable based on a condition."
      ],
      "metadata": {
        "colab": {
          "base_uri": "https://localhost:8080/"
        },
        "id": "eoUtkuxQJYtK",
        "outputId": "2e2d0dc2-0f8d-421d-8509-a9633b95658f"
      },
      "execution_count": null,
      "outputs": [
        {
          "output_type": "stream",
          "name": "stdout",
          "text": [
            "[25, 50, 125]\n"
          ]
        }
      ]
    },
    {
      "cell_type": "code",
      "source": [
        "#Example of using a reduce() function-\n",
        "\n",
        "from functools import reduce\n",
        "\n",
        "def add(x, y):\n",
        "    return x+y\n",
        "\n",
        "numbers_list = [0, 1, 2, 3, 4, 5]\n",
        "\n",
        "sum_of_numbers = reduce(add, numbers_list)\n",
        "print(sum_of_numbers)\n",
        "\n",
        "#we use reduce() function when we need to perform cumulative operations on an iterable, like summing all elements, finding the product, etc."
      ],
      "metadata": {
        "colab": {
          "base_uri": "https://localhost:8080/"
        },
        "id": "lE8Owr2gJbpN",
        "outputId": "dbe4853a-9965-48b3-9083-ccdfc9a129cb"
      },
      "execution_count": null,
      "outputs": [
        {
          "output_type": "stream",
          "name": "stdout",
          "text": [
            "15\n"
          ]
        }
      ]
    },
    {
      "cell_type": "markdown",
      "source": [
        "11.  Using pen & Paper write the internal mechanism for sum operation using  reduce function on this given list [47,11,42,13]\n",
        "(Attach paper image for this answer) in doc or colab notebook.\n",
        "\n",
        "from functools import reduce\n",
        "\n",
        "l = [47,11,42,13]\n",
        "reduce(lambda x,y: x + y, l)\n",
        "\n",
        "(I have attached the internal mechanism for sum operation using reduce function on this given list [47,11,42,13])"
      ],
      "metadata": {
        "id": "jIHdFnpPLVti"
      }
    },
    {
      "cell_type": "code",
      "source": [
        "\"\"\" Practical Questions:\n",
        "1. Write a Python function that takes a list of numbers as input and returns the sum of all even numbers in\n",
        "the list\n",
        "\"\"\"\n",
        "def even_no(num):\n",
        "    l = []\n",
        "    for i in num:\n",
        "        if i % 2 == 0:\n",
        "            l.append(i)\n",
        "    return l\n",
        "\n",
        "even_no([1, 2, 3, 4, 5, 6, 7, 8, 9, 10])\n"
      ],
      "metadata": {
        "colab": {
          "base_uri": "https://localhost:8080/"
        },
        "id": "ka-j-rUpJ923",
        "outputId": "a05d06fe-24d3-4cf6-f7dd-0e87da2d9f93"
      },
      "execution_count": null,
      "outputs": [
        {
          "output_type": "execute_result",
          "data": {
            "text/plain": [
              "[2, 4, 6, 8, 10]"
            ]
          },
          "metadata": {},
          "execution_count": 64
        }
      ]
    },
    {
      "cell_type": "code",
      "source": [
        "\"\"\"\n",
        "2. Create a Python function that accepts a string and returns the reverse of that string.\n",
        "\"\"\"\n",
        "\n",
        "def reverse(name):\n",
        "    return name[::-1]\n",
        "\n",
        "reverse(\"PWskills\")"
      ],
      "metadata": {
        "colab": {
          "base_uri": "https://localhost:8080/",
          "height": 36
        },
        "id": "XCHhik-tMGsC",
        "outputId": "71d60fde-742c-41a1-ea2a-bf9a53033caf"
      },
      "execution_count": null,
      "outputs": [
        {
          "output_type": "execute_result",
          "data": {
            "text/plain": [
              "'slliksWP'"
            ],
            "application/vnd.google.colaboratory.intrinsic+json": {
              "type": "string"
            }
          },
          "metadata": {},
          "execution_count": 65
        }
      ]
    },
    {
      "cell_type": "code",
      "source": [
        "\"\"\"\n",
        "3.  Implement a Python function that takes a list of integers and returns a new list containing the squares of each number.\n",
        "\"\"\"\n",
        "\n",
        "def square(num):\n",
        "    s = []\n",
        "    for i in num:\n",
        "        s.append(i ** 2)\n",
        "    return s\n",
        "\n",
        "square([1, 2, 3, 4, 5, 6, 7, 8, 9, 10])"
      ],
      "metadata": {
        "colab": {
          "base_uri": "https://localhost:8080/"
        },
        "id": "rj5kP_dvMQER",
        "outputId": "2847fade-ba13-4a87-d854-d5340e014593"
      },
      "execution_count": null,
      "outputs": [
        {
          "output_type": "execute_result",
          "data": {
            "text/plain": [
              "[1, 4, 9, 16, 25, 36, 49, 64, 81, 100]"
            ]
          },
          "metadata": {},
          "execution_count": 66
        }
      ]
    },
    {
      "cell_type": "code",
      "source": [
        "\"\"\"\n",
        "4.  Write a Python function that checks if a given number is prime or not from 1 to 200.\n",
        "\"\"\"\n",
        "\n",
        "def prime_number(number):\n",
        "    if number == 1:\n",
        "        return False\n",
        "\n",
        "    if number < 1 or number > 200:\n",
        "        return \"Enter any number between 1 to 200\"\n",
        "\n",
        "    for i in range(2, int(number ** 0.5) + 1):\n",
        "        if number % i == 0:\n",
        "            return False\n",
        "    return True\n",
        "\n",
        "print(prime_number(5))"
      ],
      "metadata": {
        "colab": {
          "base_uri": "https://localhost:8080/"
        },
        "id": "q9GD_7j5McGD",
        "outputId": "41701cfa-0808-40b7-d659-f9b1e7eaf3b4"
      },
      "execution_count": null,
      "outputs": [
        {
          "output_type": "stream",
          "name": "stdout",
          "text": [
            "True\n"
          ]
        }
      ]
    },
    {
      "cell_type": "code",
      "source": [
        "\"\"\"\n",
        "5. Create an iterator class in Python that generates the Fibonacci sequence up to a specified number of terms.\n",
        "\"\"\"\n",
        "class Fibonacci_Iterator:\n",
        "\n",
        "    def __init__(self, number):\n",
        "        self.number = number\n",
        "        self.a, self.b = 0, 1\n",
        "\n",
        "    def Fibonacci_Sequence(self):\n",
        "        for i in range(self.number):\n",
        "            yield self.a\n",
        "            self.a, self.b = self.b, self.a + self.b\n",
        "\n",
        "fibonacci_numbers = Fibonacci_Iterator(10)\n",
        "for num in fibonacci_numbers.Fibonacci_Sequence():\n",
        "    print(num)"
      ],
      "metadata": {
        "colab": {
          "base_uri": "https://localhost:8080/"
        },
        "id": "T1iqBfYvMmVs",
        "outputId": "fb2324ec-2071-404c-e5cf-ec92bbb6115f"
      },
      "execution_count": null,
      "outputs": [
        {
          "output_type": "stream",
          "name": "stdout",
          "text": [
            "0\n",
            "1\n",
            "1\n",
            "2\n",
            "3\n",
            "5\n",
            "8\n",
            "13\n",
            "21\n",
            "34\n"
          ]
        }
      ]
    },
    {
      "cell_type": "code",
      "source": [
        "\"\"\"\n",
        "6. Write a generator function in Python that yields the powers of 2 up to a given exponent.\n",
        "\"\"\"\n",
        "def powers_of_2_generator(number):\n",
        "    for i in range(number + 1):\n",
        "        yield 2 ** i\n",
        "\n",
        "exponent = powers_of_2_generator(10)\n",
        "print(list(exponent))"
      ],
      "metadata": {
        "colab": {
          "base_uri": "https://localhost:8080/"
        },
        "id": "LscR49HIMsd1",
        "outputId": "afb926cc-b7da-4842-d9f6-058dc8ee663d"
      },
      "execution_count": null,
      "outputs": [
        {
          "output_type": "stream",
          "name": "stdout",
          "text": [
            "[1, 2, 4, 8, 16, 32, 64, 128, 256, 512, 1024]\n"
          ]
        }
      ]
    },
    {
      "cell_type": "code",
      "source": [
        "#7. Implement a generator function that reads a file line by line and yields each line as a string.\n",
        "def read_file_line_by_line(file_path):\n",
        "#Generator function that reads a file line by line and yields each line\n",
        "    with open(file_path, 'r') as file:\n",
        "        for line in file:\n",
        "            yield line.strip()\n",
        "\n",
        "# create and write to a file named example.txt\n",
        "with open(\"example.txt\", \"w\") as file:\n",
        "     file.write(\"Hello, World!\\n\")\n",
        "     file.write(\"This is a sample text file.\\n\")\n",
        "     file.write(\"I am a student at Pw Skills.\\n\")\n",
        "\n",
        "with open(\"example.txt\", 'r') as file:\n",
        "     content = file.read()\n",
        "     print(content)\n",
        "\n"
      ],
      "metadata": {
        "colab": {
          "base_uri": "https://localhost:8080/"
        },
        "id": "mdm3Tf7EeLsq",
        "outputId": "4f0eb908-0f36-4622-a55e-49860d26f564"
      },
      "execution_count": null,
      "outputs": [
        {
          "output_type": "stream",
          "name": "stdout",
          "text": [
            "Hello, World!\n",
            "This is a sample text file.\n",
            "I am a student at Pw Skills.\n",
            "\n"
          ]
        }
      ]
    },
    {
      "cell_type": "code",
      "source": [
        "\"\"\"\n",
        "8. Use a lambda function in Python to sort a list of tuples based on the second element of each tuple.\n",
        "\"\"\"\n",
        "tuple_list = ((5,4), (2,8), (10,1), (0,3))\n",
        "\n",
        "sorted_tuple_list = sorted(tuple_list, key=lambda x : x[1])\n",
        "print(tuple(sorted_tuple_list))"
      ],
      "metadata": {
        "colab": {
          "base_uri": "https://localhost:8080/"
        },
        "id": "3NPWHlXkPVDW",
        "outputId": "dcebdf8a-1768-49d4-b428-0d2a49305463"
      },
      "execution_count": null,
      "outputs": [
        {
          "output_type": "stream",
          "name": "stdout",
          "text": [
            "((10, 1), (0, 3), (5, 4), (2, 8))\n"
          ]
        }
      ]
    },
    {
      "cell_type": "code",
      "source": [
        "\"\"\"\n",
        "9. Write a Python program that uses `map()` to convert a list of temperatures from Celsius to Fahrenheit.\n",
        "\"\"\"\n",
        "def Fahrenheit_converter(celsius):\n",
        "    return (9/5 * celsius) + 32\n",
        "\n",
        "temperature_in_celsius = [28, 32, 40, 48, 53, 20]\n",
        "\n",
        "temperature_in_Fahrenheit = list(map(Fahrenheit_converter, temperature_in_celsius))\n",
        "print(temperature_in_Fahrenheit)"
      ],
      "metadata": {
        "colab": {
          "base_uri": "https://localhost:8080/"
        },
        "id": "y8OfYKlyPd5O",
        "outputId": "a83121bb-fe03-44d6-c102-45fbbeaa2dbf"
      },
      "execution_count": null,
      "outputs": [
        {
          "output_type": "stream",
          "name": "stdout",
          "text": [
            "[82.4, 89.6, 104.0, 118.4, 127.4, 68.0]\n"
          ]
        }
      ]
    },
    {
      "cell_type": "code",
      "source": [
        "\"\"\"\n",
        "10. Create a Python program that uses `filter()` to remove all the vowels from a given string.\n",
        "\"\"\"\n",
        "def remove_vowels(string):\n",
        "    vowels = \"aeiouAEIOU\"\n",
        "    return \"\".join(filter(lambda char: char not in vowels, string))\n",
        "\n",
        "my_string = remove_vowels(\"manifest\")\n",
        "print(my_string)"
      ],
      "metadata": {
        "colab": {
          "base_uri": "https://localhost:8080/"
        },
        "id": "6zxUiFcWPpCG",
        "outputId": "9e712977-bb7c-4836-fec3-928f7506cd75"
      },
      "execution_count": null,
      "outputs": [
        {
          "output_type": "stream",
          "name": "stdout",
          "text": [
            "mnfst\n"
          ]
        }
      ]
    },
    {
      "cell_type": "code",
      "source": [
        "\"\"\"\n",
        "Q11. Imagine an accounting routine used in a book shop. It works on a list with sublists, which look like this:\n",
        "\n",
        "Order Number       Book Title and Author                         Quantity            Price per Item\n",
        "\n",
        "34587             Learning Python, Mark Lutzv                      4                      40.95\n",
        "98762             Programming Python, Mark Lutz                    5                      56.80\n",
        "77226             Head First Python, Paul Barry                    3                      32.95\n",
        "88112             Einführung in Python3, Bernd Klein               3                      24.99\n",
        "\n",
        "\n",
        "Write a Python program, which returns a list with 2-tuples. Each tuple consists of the order number and the\n",
        "product of the price per item and the quantity. The product should be increased by 10,- € if the value of the\n",
        "order is smaller than 100,00 €.\n",
        " Write a Python program using lambda and map.\n",
        "\"\"\"\n",
        "\n",
        "orders = [\n",
        "[34587, \"Learning Python, Mark Lutzv\", 4, 40.95],\n",
        "[98762, \"Programming Python, Mark Lutz\", 5, 56.80],\n",
        "[77226, \"Head First Python, Paul Barry\", 3, 32.95],\n",
        "[88112, \"Einführung in Python3, Bernd Klein\", 3, 24.99]]\n",
        "\n",
        "result = list(map(lambda order: (order[0] , f\"{order[2] * order[3] + (10 if order[2] * order[3] < 100 else 0):.2f} €\"), orders))\n",
        "print(result)"
      ],
      "metadata": {
        "colab": {
          "base_uri": "https://localhost:8080/"
        },
        "id": "dbeB2GlyP05-",
        "outputId": "94f86090-af5e-409c-ad9e-26fb3a19c402"
      },
      "execution_count": null,
      "outputs": [
        {
          "output_type": "stream",
          "name": "stdout",
          "text": [
            "[(34587, '163.80 €'), (98762, '284.00 €'), (77226, '108.85 €'), (88112, '84.97 €')]\n"
          ]
        }
      ]
    }
  ]
}